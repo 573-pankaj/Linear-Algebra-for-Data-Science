{
 "cells": [
  {
   "cell_type": "markdown",
   "id": "69a742a2",
   "metadata": {},
   "source": [
    "# 1. Basic Linear Algebra"
   ]
  },
  {
   "cell_type": "markdown",
   "id": "d2df99dc",
   "metadata": {},
   "source": [
    "* [1.1 Creating tensors](#creating_tensors)\n",
    "* [1.2 Scalars](#Scalars)\n",
    "* [1.3 Vectors](#Vectors)\n",
    "* [1.4 Matrices](#Matrices)\n",
    "* [1.5 Basic Properties of Tensor Arithmetic](#Basic_Properties_of_Tensor_Arithmetic)\n",
    "* [1.6 Reduction](#Reduction)"
   ]
  },
  {
   "cell_type": "code",
   "execution_count": 3,
   "id": "284437b7",
   "metadata": {},
   "outputs": [
    {
     "name": "stdout",
     "output_type": "stream",
     "text": [
      "2.9.1\n"
     ]
    }
   ],
   "source": [
    "# Check for tensorflow version\n",
    "import tensorflow as tf\n",
    "print(tf.__version__)"
   ]
  },
  {
   "cell_type": "code",
   "execution_count": 15,
   "id": "6ef5125a",
   "metadata": {},
   "outputs": [],
   "source": [
    "import numpy as np"
   ]
  },
  {
   "cell_type": "markdown",
   "id": "0b0f0cf1",
   "metadata": {},
   "source": [
    "<a id = \"creating_tensors\"> </a>\n",
    "\n",
    "### 1. 1 Creating tensors\n",
    "\n",
    "In this section, we will create `tensors` of different rank, starting from scalars to multi-dimensional arrays. Though tensors can be both real or complex, we will mainly focus on real tensors.\n",
    "\n",
    "A scalar contains a single (real or complex) value. "
   ]
  },
  {
   "cell_type": "code",
   "execution_count": 17,
   "id": "c4dc6aab",
   "metadata": {},
   "outputs": [
    {
     "data": {
      "text/plain": [
       "<tf.Tensor: shape=(), dtype=float32, numpy=50.0>"
      ]
     },
     "execution_count": 17,
     "metadata": {},
     "output_type": "execute_result"
    }
   ],
   "source": [
    "a = tf.constant(50.0)\n",
    "a"
   ]
  },
  {
   "cell_type": "code",
   "execution_count": 25,
   "id": "34601165",
   "metadata": {},
   "outputs": [
    {
     "name": "stdout",
     "output_type": "stream",
     "text": [
      "tf.Tensor(50.0, shape=(), dtype=float32)\n"
     ]
    }
   ],
   "source": [
    "print(a)"
   ]
  },
  {
   "cell_type": "code",
   "execution_count": 19,
   "id": "572f13c0",
   "metadata": {},
   "outputs": [
    {
     "name": "stdout",
     "output_type": "stream",
     "text": [
      "50.0\n"
     ]
    }
   ],
   "source": [
    "print(a.numpy())"
   ]
  },
  {
   "cell_type": "markdown",
   "id": "970b38c4",
   "metadata": {},
   "source": [
    "<a id = \"Scalars\"> </a>\n",
    "## 1. 2 Scalars"
   ]
  },
  {
   "cell_type": "markdown",
   "id": "6f3f473c",
   "metadata": {},
   "source": [
    "![alt](1Scalars.png)"
   ]
  },
  {
   "cell_type": "code",
   "execution_count": 20,
   "id": "7f8f6e84",
   "metadata": {},
   "outputs": [
    {
     "data": {
      "text/plain": [
       "(<tf.Tensor: shape=(), dtype=float32, numpy=50.0>,\n",
       " <tf.Tensor: shape=(), dtype=float32, numpy=600.0>,\n",
       " <tf.Tensor: shape=(), dtype=float32, numpy=1.5>,\n",
       " <tf.Tensor: shape=(), dtype=float32, numpy=3.4867842e+29>)"
      ]
     },
     "execution_count": 20,
     "metadata": {},
     "output_type": "execute_result"
    }
   ],
   "source": [
    "\n",
    "x = tf.constant(30.0)\n",
    "y = tf.constant(20.0)\n",
    "\n",
    "x + y, x * y, x / y, x**y"
   ]
  },
  {
   "cell_type": "code",
   "execution_count": 21,
   "id": "ea012f0e",
   "metadata": {},
   "outputs": [
    {
     "name": "stdout",
     "output_type": "stream",
     "text": [
      "tf.Tensor(30.0, shape=(), dtype=float32)\n"
     ]
    }
   ],
   "source": [
    "print(x)  # its tensor"
   ]
  },
  {
   "cell_type": "code",
   "execution_count": 22,
   "id": "35987aa7",
   "metadata": {},
   "outputs": [
    {
     "data": {
      "text/plain": [
       "tensorflow.python.framework.ops.EagerTensor"
      ]
     },
     "execution_count": 22,
     "metadata": {},
     "output_type": "execute_result"
    }
   ],
   "source": [
    "type(x)"
   ]
  },
  {
   "cell_type": "code",
   "execution_count": 27,
   "id": "e5d07e19",
   "metadata": {},
   "outputs": [],
   "source": [
    " val = x + y"
   ]
  },
  {
   "cell_type": "code",
   "execution_count": 28,
   "id": "a2055308",
   "metadata": {},
   "outputs": [
    {
     "data": {
      "text/plain": [
       "tensorflow.python.framework.ops.EagerTensor"
      ]
     },
     "execution_count": 28,
     "metadata": {},
     "output_type": "execute_result"
    }
   ],
   "source": [
    "type(val)"
   ]
  },
  {
   "cell_type": "code",
   "execution_count": 29,
   "id": "e6d316c2",
   "metadata": {},
   "outputs": [
    {
     "name": "stdout",
     "output_type": "stream",
     "text": [
      "tf.Tensor(50.0, shape=(), dtype=float32)\n"
     ]
    }
   ],
   "source": [
    "print(val)"
   ]
  },
  {
   "cell_type": "code",
   "execution_count": 30,
   "id": "7dee4e1a",
   "metadata": {},
   "outputs": [
    {
     "name": "stdout",
     "output_type": "stream",
     "text": [
      "50.0\n"
     ]
    }
   ],
   "source": [
    "print(val.numpy())"
   ]
  },
  {
   "cell_type": "markdown",
   "id": "e2662657",
   "metadata": {},
   "source": [
    "<a id = \"Vectors\"> </a>\n",
    "## 1.3  Vectors\n",
    "Vectors are implemented as \n",
    "`1st`-order tensors. In general, such tensors can have arbitrary lengths, subject to memory limitations. Caution: in Python, like in most programming languages, vector indices start at \n",
    ", also known as `0` zero-based indexing, whereas in linear algebra subscripts begin at \n",
    " `1` (one-based indexing)."
   ]
  },
  {
   "cell_type": "code",
   "execution_count": 35,
   "id": "0b2785de",
   "metadata": {},
   "outputs": [
    {
     "data": {
      "text/plain": [
       "<tf.Tensor: shape=(7,), dtype=int32, numpy=array([0, 1, 2, 3, 4, 5, 6])>"
      ]
     },
     "execution_count": 35,
     "metadata": {},
     "output_type": "execute_result"
    }
   ],
   "source": [
    "x = tf.range(7)\n",
    "x"
   ]
  },
  {
   "cell_type": "code",
   "execution_count": 36,
   "id": "de3b5069",
   "metadata": {},
   "outputs": [
    {
     "data": {
      "text/plain": [
       "<tf.Tensor: shape=(7,), dtype=int32, numpy=array([0, 1, 2, 3, 4, 5, 6])>"
      ]
     },
     "execution_count": 36,
     "metadata": {},
     "output_type": "execute_result"
    }
   ],
   "source": [
    "x"
   ]
  },
  {
   "cell_type": "markdown",
   "id": "62465919",
   "metadata": {},
   "source": [
    "We can refer to an element of a vector by using a subscript. For example, `x2`\n",
    " denotes the second element of `x`\n",
    ". Since `x2`\n",
    " is a scalar, we do not bold it. By default, we visualize vectors by stacking their elements vertically.\n",
    "![alt](oneDvector.png)\n",
    "Here `x1,.....,xn`\n",
    " are elements of the vector. Later on, we will distinguish between such column vectors and row vectors whose elements are stacked horizontally. Recall that we access a tensor’s elements via indexing."
   ]
  },
  {
   "cell_type": "code",
   "execution_count": 134,
   "id": "8bb0a7c8",
   "metadata": {},
   "outputs": [
    {
     "data": {
      "text/plain": [
       "tensorflow.python.framework.ops.EagerTensor"
      ]
     },
     "execution_count": 134,
     "metadata": {},
     "output_type": "execute_result"
    }
   ],
   "source": [
    "type(x)"
   ]
  },
  {
   "cell_type": "code",
   "execution_count": 135,
   "id": "65f3e28c",
   "metadata": {},
   "outputs": [
    {
     "name": "stdout",
     "output_type": "stream",
     "text": [
      "tf.Tensor([ 0.  1.  2.  3.  4.  5.  6.  7.  8.  9. 10.], shape=(11,), dtype=float32)\n"
     ]
    }
   ],
   "source": [
    "print(x)"
   ]
  },
  {
   "cell_type": "code",
   "execution_count": 136,
   "id": "82e64d80",
   "metadata": {},
   "outputs": [
    {
     "name": "stdout",
     "output_type": "stream",
     "text": [
      "[ 0.  1.  2.  3.  4.  5.  6.  7.  8.  9. 10.]\n"
     ]
    }
   ],
   "source": [
    "print(x.numpy()) # we can think of it as a vector"
   ]
  },
  {
   "cell_type": "code",
   "execution_count": 137,
   "id": "9b56a8d4",
   "metadata": {},
   "outputs": [
    {
     "data": {
      "text/plain": [
       "0.0"
      ]
     },
     "execution_count": 137,
     "metadata": {},
     "output_type": "execute_result"
    }
   ],
   "source": [
    "x[0].numpy()"
   ]
  },
  {
   "cell_type": "markdown",
   "id": "aea2a688",
   "metadata": {},
   "source": [
    "<a id = \"Matrics\"> </a>\n",
    "## 1.4 Matrics"
   ]
  },
  {
   "cell_type": "markdown",
   "id": "98d13169",
   "metadata": {},
   "source": [
    "![alt](Matrix2.png)"
   ]
  },
  {
   "cell_type": "code",
   "execution_count": 47,
   "id": "3f7ce66e",
   "metadata": {},
   "outputs": [
    {
     "data": {
      "text/plain": [
       "<tf.Tensor: shape=(3, 2), dtype=int32, numpy=\n",
       "array([[0, 1],\n",
       "       [2, 3],\n",
       "       [4, 5]])>"
      ]
     },
     "execution_count": 47,
     "metadata": {},
     "output_type": "execute_result"
    }
   ],
   "source": [
    "A = tf.reshape(tf.range(6), (3, 2))\n",
    "A"
   ]
  },
  {
   "cell_type": "code",
   "execution_count": 48,
   "id": "187df299",
   "metadata": {},
   "outputs": [
    {
     "name": "stdout",
     "output_type": "stream",
     "text": [
      "[[0 1]\n",
      " [2 3]\n",
      " [4 5]]\n"
     ]
    }
   ],
   "source": [
    "print(A.numpy())"
   ]
  },
  {
   "cell_type": "code",
   "execution_count": 49,
   "id": "4a0be742",
   "metadata": {},
   "outputs": [
    {
     "data": {
      "text/plain": [
       "array([[0, 1],\n",
       "       [2, 3],\n",
       "       [4, 5]])"
      ]
     },
     "execution_count": 49,
     "metadata": {},
     "output_type": "execute_result"
    }
   ],
   "source": [
    "A.numpy()"
   ]
  },
  {
   "cell_type": "code",
   "execution_count": 50,
   "id": "bc1e0c36",
   "metadata": {},
   "outputs": [
    {
     "data": {
      "text/plain": [
       "tensorflow.python.framework.ops.EagerTensor"
      ]
     },
     "execution_count": 50,
     "metadata": {},
     "output_type": "execute_result"
    }
   ],
   "source": [
    "type(A)"
   ]
  },
  {
   "cell_type": "markdown",
   "id": "ed8ada0b",
   "metadata": {},
   "source": [
    "![alt](Matrix1.png)"
   ]
  },
  {
   "cell_type": "markdown",
   "id": "d7393de0",
   "metadata": {},
   "source": [
    "we can perform this transpose operation simply use of `tf.transpose()`"
   ]
  },
  {
   "cell_type": "code",
   "execution_count": 52,
   "id": "38246bbf",
   "metadata": {},
   "outputs": [
    {
     "data": {
      "text/plain": [
       "<tf.Tensor: shape=(2, 3), dtype=int32, numpy=\n",
       "array([[0, 2, 4],\n",
       "       [1, 3, 5]])>"
      ]
     },
     "execution_count": 52,
     "metadata": {},
     "output_type": "execute_result"
    }
   ],
   "source": [
    "tf.transpose(A)"
   ]
  },
  {
   "cell_type": "markdown",
   "id": "21ccc535",
   "metadata": {},
   "source": [
    "![alt](Matrix3.png)"
   ]
  },
  {
   "cell_type": "code",
   "execution_count": 56,
   "id": "e1ed6206",
   "metadata": {},
   "outputs": [
    {
     "name": "stdout",
     "output_type": "stream",
     "text": [
      "[[16 20 30]\n",
      " [28  8 40]\n",
      " [30 40 50]]\n"
     ]
    }
   ],
   "source": [
    "A = tf.constant([[16, 20, 30], [28, 8, 40], [30, 40, 50]])\n",
    "print(A.numpy())"
   ]
  },
  {
   "cell_type": "code",
   "execution_count": 57,
   "id": "08d83c57",
   "metadata": {},
   "outputs": [
    {
     "data": {
      "text/plain": [
       "<tf.Tensor: shape=(3, 3), dtype=bool, numpy=\n",
       "array([[ True, False,  True],\n",
       "       [False,  True,  True],\n",
       "       [ True,  True,  True]])>"
      ]
     },
     "execution_count": 57,
     "metadata": {},
     "output_type": "execute_result"
    }
   ],
   "source": [
    "A == tf.transpose(A) # we can see the equality of the matrix"
   ]
  },
  {
   "cell_type": "markdown",
   "id": "fb5d5970",
   "metadata": {},
   "source": [
    "<a id = \"Basic Properties of Tensor Arithmetic\"> </a>\n",
    "### 1.5 Basic Properties of Tensor Arithmetic"
   ]
  },
  {
   "cell_type": "code",
   "execution_count": 59,
   "id": "791897f0",
   "metadata": {},
   "outputs": [],
   "source": [
    "A = tf.reshape(tf.range(6, dtype=tf.float32), (2, 3))"
   ]
  },
  {
   "cell_type": "code",
   "execution_count": 62,
   "id": "f84e3253",
   "metadata": {},
   "outputs": [
    {
     "data": {
      "text/plain": [
       "array([[0., 1., 2.],\n",
       "       [3., 4., 5.]], dtype=float32)"
      ]
     },
     "execution_count": 62,
     "metadata": {},
     "output_type": "execute_result"
    }
   ],
   "source": [
    "A.numpy()"
   ]
  },
  {
   "cell_type": "code",
   "execution_count": 63,
   "id": "e174aee1",
   "metadata": {},
   "outputs": [],
   "source": [
    "B = A  # No cloning of `A` to `B` by allocating new memory"
   ]
  },
  {
   "cell_type": "code",
   "execution_count": 64,
   "id": "876cb3f8",
   "metadata": {},
   "outputs": [
    {
     "data": {
      "text/plain": [
       "array([[0., 1., 2.],\n",
       "       [3., 4., 5.]], dtype=float32)"
      ]
     },
     "execution_count": 64,
     "metadata": {},
     "output_type": "execute_result"
    }
   ],
   "source": [
    "B.numpy()"
   ]
  },
  {
   "cell_type": "code",
   "execution_count": 66,
   "id": "8dbdb252",
   "metadata": {},
   "outputs": [
    {
     "data": {
      "text/plain": [
       "<tf.Tensor: shape=(2, 3), dtype=float32, numpy=\n",
       "array([[ 0.,  2.,  4.],\n",
       "       [ 6.,  8., 10.]], dtype=float32)>"
      ]
     },
     "execution_count": 66,
     "metadata": {},
     "output_type": "execute_result"
    }
   ],
   "source": [
    " A + B"
   ]
  },
  {
   "cell_type": "markdown",
   "id": "5053c156",
   "metadata": {},
   "source": [
    "### Hadamard Product"
   ]
  },
  {
   "cell_type": "markdown",
   "id": "e7ddb75c",
   "metadata": {},
   "source": [
    "![alt](matrix4.png)"
   ]
  },
  {
   "cell_type": "markdown",
   "id": "6d6471e0",
   "metadata": {},
   "source": [
    "![alt](matrix5.png)"
   ]
  },
  {
   "cell_type": "code",
   "execution_count": 67,
   "id": "91546d92",
   "metadata": {},
   "outputs": [
    {
     "data": {
      "text/plain": [
       "<tf.Tensor: shape=(2, 3), dtype=float32, numpy=\n",
       "array([[ 0.,  1.,  4.],\n",
       "       [ 9., 16., 25.]], dtype=float32)>"
      ]
     },
     "execution_count": 67,
     "metadata": {},
     "output_type": "execute_result"
    }
   ],
   "source": [
    "A * B"
   ]
  },
  {
   "cell_type": "markdown",
   "id": "6cec54d7",
   "metadata": {},
   "source": [
    "Adding or multiplying a scalar and a tensor produces a result with the same shape as the original tensor. Here, each element of the tensor is added to (or multiplied by) the scalar."
   ]
  },
  {
   "cell_type": "code",
   "execution_count": 69,
   "id": "7d4d3404",
   "metadata": {},
   "outputs": [
    {
     "data": {
      "text/plain": [
       "(<tf.Tensor: shape=(2, 3, 4), dtype=int32, numpy=\n",
       " array([[[20, 21, 22, 23],\n",
       "         [24, 25, 26, 27],\n",
       "         [28, 29, 30, 31]],\n",
       " \n",
       "        [[32, 33, 34, 35],\n",
       "         [36, 37, 38, 39],\n",
       "         [40, 41, 42, 43]]])>,\n",
       " TensorShape([2, 3, 4]))"
      ]
     },
     "execution_count": 69,
     "metadata": {},
     "output_type": "execute_result"
    }
   ],
   "source": [
    "a = 20\n",
    "X = tf.reshape(tf.range(24), (2, 3, 4))\n",
    "a + X, (a * X).shape"
   ]
  },
  {
   "cell_type": "markdown",
   "id": "7bd9a99a",
   "metadata": {},
   "source": [
    "<a id = \"Reduction\"> </a>\n",
    "# Reduction"
   ]
  },
  {
   "cell_type": "markdown",
   "id": "65e7a813",
   "metadata": {},
   "source": [
    "![alt](reduction1.png)"
   ]
  },
  {
   "cell_type": "code",
   "execution_count": 77,
   "id": "fad84045",
   "metadata": {},
   "outputs": [],
   "source": [
    "x = tf.range(11, dtype=tf.float32)\n"
   ]
  },
  {
   "cell_type": "code",
   "execution_count": 78,
   "id": "c46e89a2",
   "metadata": {},
   "outputs": [
    {
     "data": {
      "text/plain": [
       "array([ 0.,  1.,  2.,  3.,  4.,  5.,  6.,  7.,  8.,  9., 10.],\n",
       "      dtype=float32)"
      ]
     },
     "execution_count": 78,
     "metadata": {},
     "output_type": "execute_result"
    }
   ],
   "source": [
    "x.numpy()"
   ]
  },
  {
   "cell_type": "code",
   "execution_count": 79,
   "id": "23e16c37",
   "metadata": {},
   "outputs": [
    {
     "data": {
      "text/plain": [
       "55.0"
      ]
     },
     "execution_count": 79,
     "metadata": {},
     "output_type": "execute_result"
    }
   ],
   "source": [
    "tf.reduce_sum(x).numpy()"
   ]
  },
  {
   "cell_type": "code",
   "execution_count": 80,
   "id": "d537255e",
   "metadata": {},
   "outputs": [
    {
     "name": "stdout",
     "output_type": "stream",
     "text": [
      "[ 0.  1.  2.  3.  4.  5.  6.  7.  8.  9. 10.]\n"
     ]
    }
   ],
   "source": [
    "print(x.numpy())"
   ]
  },
  {
   "cell_type": "markdown",
   "id": "7ff9acb3",
   "metadata": {},
   "source": [
    "![alt](reduction2.png)"
   ]
  },
  {
   "cell_type": "code",
   "execution_count": 116,
   "id": "30711d2c",
   "metadata": {},
   "outputs": [
    {
     "name": "stdout",
     "output_type": "stream",
     "text": [
      "[[ 0.  1.  2.  3.  4.  5.  6.  7.  8.]\n",
      " [ 9. 10. 11. 12. 13. 14. 15. 16. 17.]\n",
      " [18. 19. 20. 21. 22. 23. 24. 25. 26.]\n",
      " [27. 28. 29. 30. 31. 32. 33. 34. 35.]]\n"
     ]
    }
   ],
   "source": [
    "M = tf.reshape(tf.range(36, dtype=tf.float32), (4, 9))\n",
    "print(M.numpy())"
   ]
  },
  {
   "cell_type": "code",
   "execution_count": 126,
   "id": "cfffc954",
   "metadata": {},
   "outputs": [
    {
     "data": {
      "text/plain": [
       "array([0., 1., 2., 3., 4., 5., 6., 7., 8.], dtype=float32)"
      ]
     },
     "execution_count": 126,
     "metadata": {},
     "output_type": "execute_result"
    }
   ],
   "source": [
    "M[0].numpy()"
   ]
  },
  {
   "cell_type": "code",
   "execution_count": 127,
   "id": "bb95ad63",
   "metadata": {},
   "outputs": [
    {
     "data": {
      "text/plain": [
       "array([ 9., 10., 11., 12., 13., 14., 15., 16., 17.], dtype=float32)"
      ]
     },
     "execution_count": 127,
     "metadata": {},
     "output_type": "execute_result"
    }
   ],
   "source": [
    "M[1].numpy()"
   ]
  },
  {
   "cell_type": "code",
   "execution_count": 117,
   "id": "295ed31d",
   "metadata": {},
   "outputs": [
    {
     "data": {
      "text/plain": [
       "TensorShape([4, 9])"
      ]
     },
     "execution_count": 117,
     "metadata": {},
     "output_type": "execute_result"
    }
   ],
   "source": [
    "M.shape"
   ]
  },
  {
   "cell_type": "code",
   "execution_count": 118,
   "id": "55d4ef08",
   "metadata": {},
   "outputs": [
    {
     "data": {
      "text/plain": [
       "<tf.Tensor: shape=(), dtype=float32, numpy=630.0>"
      ]
     },
     "execution_count": 118,
     "metadata": {},
     "output_type": "execute_result"
    }
   ],
   "source": [
    "tf.reduce_sum(M)"
   ]
  },
  {
   "cell_type": "code",
   "execution_count": 119,
   "id": "a7bab932",
   "metadata": {},
   "outputs": [
    {
     "data": {
      "text/plain": [
       "630.0"
      ]
     },
     "execution_count": 119,
     "metadata": {},
     "output_type": "execute_result"
    }
   ],
   "source": [
    "tf.reduce_sum(M).numpy()"
   ]
  },
  {
   "cell_type": "markdown",
   "id": "7c0090f7",
   "metadata": {},
   "source": [
    "To sum over all elements along the rows (axis 0), we specify axis=0 in sum. Since the input matrix reduces along axis 0 to generate the output vector, this axis is missing from the shape of the output."
   ]
  },
  {
   "cell_type": "code",
   "execution_count": 120,
   "id": "6ee95c90",
   "metadata": {},
   "outputs": [
    {
     "data": {
      "text/plain": [
       "array([54., 58., 62., 66., 70., 74., 78., 82., 86.], dtype=float32)"
      ]
     },
     "execution_count": 120,
     "metadata": {},
     "output_type": "execute_result"
    }
   ],
   "source": [
    "tf.reduce_sum(M, axis=0).numpy() # axis = 0 means row wise operation"
   ]
  },
  {
   "cell_type": "markdown",
   "id": "fb8ca88a",
   "metadata": {},
   "source": [
    "Specifying axis=1 will reduce the column dimension (axis 1) by summing up elements of all the columns."
   ]
  },
  {
   "cell_type": "code",
   "execution_count": 121,
   "id": "177331b0",
   "metadata": {},
   "outputs": [
    {
     "data": {
      "text/plain": [
       "array([ 36., 117., 198., 279.], dtype=float32)"
      ]
     },
     "execution_count": 121,
     "metadata": {},
     "output_type": "execute_result"
    }
   ],
   "source": [
    "tf.reduce_sum(M, axis=1).numpy() # axis = 1 column wise operation"
   ]
  },
  {
   "cell_type": "code",
   "execution_count": 122,
   "id": "b1a0861a",
   "metadata": {},
   "outputs": [
    {
     "data": {
      "text/plain": [
       "TensorShape([9])"
      ]
     },
     "execution_count": 122,
     "metadata": {},
     "output_type": "execute_result"
    }
   ],
   "source": [
    "tf.reduce_sum(M, axis=0).shape"
   ]
  },
  {
   "cell_type": "code",
   "execution_count": 123,
   "id": "3da81551",
   "metadata": {},
   "outputs": [
    {
     "data": {
      "text/plain": [
       "TensorShape([4])"
      ]
     },
     "execution_count": 123,
     "metadata": {},
     "output_type": "execute_result"
    }
   ],
   "source": [
    "tf.reduce_sum(M, axis=1).shape"
   ]
  },
  {
   "cell_type": "code",
   "execution_count": 124,
   "id": "d5e4a7bc",
   "metadata": {},
   "outputs": [
    {
     "data": {
      "text/plain": [
       "(<tf.Tensor: shape=(), dtype=float32, numpy=630.0>,\n",
       " <tf.Tensor: shape=(), dtype=float32, numpy=630.0>)"
      ]
     },
     "execution_count": 124,
     "metadata": {},
     "output_type": "execute_result"
    }
   ],
   "source": [
    "tf.reduce_sum(M, axis=[0, 1]), tf.reduce_sum(M) # Same as `tf.reduce_sum(M)`"
   ]
  },
  {
   "cell_type": "markdown",
   "id": "4b282463",
   "metadata": {},
   "source": [
    "A related quantity is the mean, also called the average. We calculate the mean by dividing the sum by the total number of elements. Because computing the mean is so common, it gets a dedicated library function that works analogously to sum."
   ]
  },
  {
   "cell_type": "code",
   "execution_count": 128,
   "id": "abf9c487",
   "metadata": {},
   "outputs": [
    {
     "data": {
      "text/plain": [
       "17.5"
      ]
     },
     "execution_count": 128,
     "metadata": {},
     "output_type": "execute_result"
    }
   ],
   "source": [
    "tf.reduce_mean(M).numpy()"
   ]
  },
  {
   "cell_type": "code",
   "execution_count": 129,
   "id": "5c99155b",
   "metadata": {},
   "outputs": [],
   "source": [
    "avg = tf.reduce_sum(M) / tf.size(M).numpy()"
   ]
  },
  {
   "cell_type": "code",
   "execution_count": 130,
   "id": "82ae5001",
   "metadata": {},
   "outputs": [
    {
     "data": {
      "text/plain": [
       "17.5"
      ]
     },
     "execution_count": 130,
     "metadata": {},
     "output_type": "execute_result"
    }
   ],
   "source": [
    "avg.numpy()"
   ]
  },
  {
   "cell_type": "code",
   "execution_count": 133,
   "id": "dadccd3b",
   "metadata": {},
   "outputs": [
    {
     "data": {
      "text/plain": [
       "array([1.5, 2.5, 3.5], dtype=float32)"
      ]
     },
     "execution_count": 133,
     "metadata": {},
     "output_type": "execute_result"
    }
   ],
   "source": [
    "tf.reduce_mean(A, axis=0).numpy()"
   ]
  },
  {
   "cell_type": "code",
   "execution_count": 138,
   "id": "26dc825d",
   "metadata": {},
   "outputs": [
    {
     "data": {
      "text/plain": [
       "<tf.Tensor: shape=(3,), dtype=float32, numpy=array([1.5, 2.5, 3.5], dtype=float32)>"
      ]
     },
     "execution_count": 138,
     "metadata": {},
     "output_type": "execute_result"
    }
   ],
   "source": [
    "tf.reduce_sum(A, axis=0) / A.shape[0]"
   ]
  },
  {
   "cell_type": "markdown",
   "id": "4c48252f",
   "metadata": {},
   "source": [
    "### Thank You"
   ]
  },
  {
   "cell_type": "markdown",
   "id": "ee96138a",
   "metadata": {},
   "source": [
    "“You have to grow from the inside out. None can teach you,\n",
    "none can make you spiritual.\n",
    "There is no other teacher but your own soul.”\n",
    "― Swami Vivekananda"
   ]
  },
  {
   "cell_type": "code",
   "execution_count": null,
   "id": "b059d7ca",
   "metadata": {},
   "outputs": [],
   "source": []
  }
 ],
 "metadata": {
  "kernelspec": {
   "display_name": "Python 3 (ipykernel)",
   "language": "python",
   "name": "python3"
  },
  "language_info": {
   "codemirror_mode": {
    "name": "ipython",
    "version": 3
   },
   "file_extension": ".py",
   "mimetype": "text/x-python",
   "name": "python",
   "nbconvert_exporter": "python",
   "pygments_lexer": "ipython3",
   "version": "3.9.15"
  }
 },
 "nbformat": 4,
 "nbformat_minor": 5
}
